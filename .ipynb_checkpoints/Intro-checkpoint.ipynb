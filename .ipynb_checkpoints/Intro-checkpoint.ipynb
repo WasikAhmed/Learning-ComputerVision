{
 "cells": [
  {
   "cell_type": "markdown",
   "source": [
    "# Importing modules"
   ],
   "metadata": {
    "collapsed": false
   },
   "id": "fb2ec3852c9541bf"
  },
  {
   "cell_type": "code",
   "execution_count": 3,
   "outputs": [],
   "source": [
    "import cv2"
   ],
   "metadata": {
    "collapsed": false,
    "ExecuteTime": {
     "end_time": "2023-09-07T16:13:17.316597Z",
     "start_time": "2023-09-07T16:13:16.859097Z"
    }
   },
   "id": "7c497ac7977b8609"
  },
  {
   "cell_type": "markdown",
   "source": [
    "# Loading an image"
   ],
   "metadata": {
    "collapsed": false
   },
   "id": "f0db7e7835051a51"
  },
  {
   "cell_type": "markdown",
   "source": [
    "## Image Mode\n",
    "- By default, the image is loaded in BGR(Blue, Green, Red) mode.\n",
    "- -1, cv2.IMREAD_COLOR : Loads a color image. Any transparency of image will be neglected. It is the default flag.\n",
    "- 0, cv2.IMREAD_GRAYSCALE : Loads image in grayscale mode\n",
    "- 1, cv2.IMREAD_UNCHANGED : Loads image as such including alpha channel"
   ],
   "metadata": {
    "collapsed": false
   },
   "id": "f7b982d87ca18eb4"
  },
  {
   "cell_type": "code",
   "execution_count": 2,
   "outputs": [],
   "source": [
    "img = cv2.imread('assets/wasik.jpg', 0)"
   ],
   "metadata": {
    "collapsed": false,
    "ExecuteTime": {
     "end_time": "2023-09-07T16:11:04.909873Z",
     "start_time": "2023-09-07T16:11:04.879322Z"
    }
   },
   "id": "2e6cb292da69582"
  },
  {
   "cell_type": "markdown",
   "source": [
    "# Displaying an image"
   ],
   "metadata": {
    "collapsed": false
   },
   "id": "88d9a83a5f3fbed8"
  },
  {
   "cell_type": "code",
   "execution_count": 3,
   "outputs": [],
   "source": [
    "cv2.imshow(\"Image\", img)\n",
    "cv2.waitKey(0)\n",
    "cv2.destroyAllWindows()"
   ],
   "metadata": {
    "collapsed": false,
    "ExecuteTime": {
     "end_time": "2023-09-07T16:11:10.825307Z",
     "start_time": "2023-09-07T16:11:04.910511Z"
    }
   },
   "id": "1e50cddac7a2deb8"
  },
  {
   "cell_type": "markdown",
   "source": [
    "# Resizing an image"
   ],
   "metadata": {
    "collapsed": false
   },
   "id": "c3869dc605fd6c7e"
  },
  {
   "cell_type": "code",
   "execution_count": 2,
   "outputs": [
    {
     "ename": "NameError",
     "evalue": "name 'cv2' is not defined",
     "output_type": "error",
     "traceback": [
      "\u001B[0;31m---------------------------------------------------------------------------\u001B[0m",
      "\u001B[0;31mNameError\u001B[0m                                 Traceback (most recent call last)",
      "Cell \u001B[0;32mIn[2], line 1\u001B[0m\n\u001B[0;32m----> 1\u001B[0m unchanged_img \u001B[38;5;241m=\u001B[39m cv2\u001B[38;5;241m.\u001B[39mimread(\u001B[38;5;124m'\u001B[39m\u001B[38;5;124massets/wasik.jpg\u001B[39m\u001B[38;5;124m'\u001B[39m, \u001B[38;5;241m1\u001B[39m)\n",
      "\u001B[0;31mNameError\u001B[0m: name 'cv2' is not defined"
     ]
    }
   ],
   "source": [
    "unchanged_img = cv2.imread('assets/wasik.jpg', 1)"
   ],
   "metadata": {
    "collapsed": false,
    "ExecuteTime": {
     "end_time": "2023-09-07T16:12:42.098866Z",
     "start_time": "2023-09-07T16:12:42.085107Z"
    }
   },
   "id": "99e558dd0087adb7"
  },
  {
   "cell_type": "code",
   "execution_count": null,
   "outputs": [],
   "source": [
    "resized_img = (unchanged_img, (400, 400)) # (width, height) pixel values"
   ],
   "metadata": {
    "collapsed": false
   },
   "id": "4161990a20d33319"
  },
  {
   "cell_type": "code",
   "execution_count": null,
   "outputs": [],
   "source": [
    "cv2.imshow(\"Image\", resized_img)\n",
    "cv2.waitkey(0)\n",
    "cv2.destroyAllWindows()"
   ],
   "metadata": {
    "collapsed": false
   },
   "id": "2ee4892313199d50"
  }
 ],
 "metadata": {
  "kernelspec": {
   "display_name": "Python 3",
   "language": "python",
   "name": "python3"
  },
  "language_info": {
   "codemirror_mode": {
    "name": "ipython",
    "version": 2
   },
   "file_extension": ".py",
   "mimetype": "text/x-python",
   "name": "python",
   "nbconvert_exporter": "python",
   "pygments_lexer": "ipython2",
   "version": "2.7.6"
  }
 },
 "nbformat": 4,
 "nbformat_minor": 5
}
