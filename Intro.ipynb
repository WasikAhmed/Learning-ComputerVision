{
 "cells": [
  {
   "cell_type": "markdown",
   "id": "fb2ec3852c9541bf",
   "metadata": {},
   "source": [
    "# Importing modules"
   ]
  },
  {
   "cell_type": "code",
   "execution_count": 1,
   "id": "7c497ac7977b8609",
   "metadata": {
    "collapsed": false,
    "tags": [],
    "ExecuteTime": {
     "end_time": "2023-09-08T13:18:26.449804Z",
     "start_time": "2023-09-08T13:18:26.305382Z"
    }
   },
   "outputs": [],
   "source": [
    "import cv2"
   ]
  },
  {
   "cell_type": "markdown",
   "id": "f0db7e7835051a51",
   "metadata": {},
   "source": [
    "# Loading an image"
   ]
  },
  {
   "cell_type": "markdown",
   "id": "f7b982d87ca18eb4",
   "metadata": {},
   "source": [
    "## Image Mode\n",
    "- By default, the image is loaded in BGR(Blue, Green, Red) mode.\n",
    "- -1, cv2.IMREAD_COLOR : Loads a color image. Any transparency of image will be neglected. It is the default flag.\n",
    "- 0, cv2.IMREAD_GRAYSCALE : Loads image in grayscale mode\n",
    "- 1, cv2.IMREAD_UNCHANGED : Loads image as such including alpha channel"
   ]
  },
  {
   "cell_type": "code",
   "execution_count": 2,
   "id": "2e6cb292da69582",
   "metadata": {
    "collapsed": false,
    "ExecuteTime": {
     "end_time": "2023-09-08T13:18:28.932311Z",
     "start_time": "2023-09-08T13:18:28.891058Z"
    }
   },
   "outputs": [],
   "source": [
    "img = cv2.imread('assets/wasik.jpg', 0)"
   ]
  },
  {
   "cell_type": "markdown",
   "id": "88d9a83a5f3fbed8",
   "metadata": {},
   "source": [
    "# Displaying an image"
   ]
  },
  {
   "cell_type": "code",
   "execution_count": null,
   "id": "1e50cddac7a2deb8",
   "metadata": {
    "collapsed": false,
    "is_executing": true,
    "ExecuteTime": {
     "start_time": "2023-09-08T13:18:31.272534Z"
    }
   },
   "outputs": [],
   "source": [
    "cv2.imshow(\"Image\", img)\n",
    "cv2.waitKey(0)\n",
    "cv2.destroyAllWindows()"
   ]
  },
  {
   "cell_type": "markdown",
   "id": "c3869dc605fd6c7e",
   "metadata": {},
   "source": [
    "# Resizing an image"
   ]
  },
  {
   "cell_type": "code",
   "execution_count": 2,
   "id": "99e558dd0087adb7",
   "metadata": {
    "ExecuteTime": {
     "end_time": "2023-09-07T16:39:00.365313Z",
     "start_time": "2023-09-07T16:39:00.310874Z"
    },
    "collapsed": false,
    "tags": []
   },
   "outputs": [],
   "source": [
    "unchanged_img = cv2.imread('assets/wasik.jpg', 1)"
   ]
  },
  {
   "cell_type": "code",
   "execution_count": 3,
   "id": "4161990a20d33319",
   "metadata": {
    "ExecuteTime": {
     "end_time": "2023-09-07T16:39:03.049106Z",
     "start_time": "2023-09-07T16:39:02.961155Z"
    },
    "collapsed": false,
    "tags": []
   },
   "outputs": [],
   "source": [
    "resized_img_px = cv2.resize(unchanged_img, (400, 500)) # (width, height) in pixels"
   ]
  },
  {
   "cell_type": "code",
   "execution_count": 4,
   "id": "2ee4892313199d50",
   "metadata": {
    "ExecuteTime": {
     "end_time": "2023-09-07T16:39:05.473477Z",
     "start_time": "2023-09-07T16:39:05.118136Z"
    },
    "collapsed": false
   },
   "outputs": [],
   "source": [
    "cv2.imshow(\"Image\", resized_img_px)\n",
    "cv2.waitKey(5)\n",
    "cv2.destroyAllWindows()"
   ]
  },
  {
   "cell_type": "code",
   "execution_count": 4,
   "id": "5174b446b7f78e4a",
   "metadata": {
    "collapsed": false,
    "tags": []
   },
   "outputs": [],
   "source": [
    "resized_img_sf = cv2.resize(unchanged_img, (0, 0), fx=0.5, fy=0.5) # (width, height) scaling factor"
   ]
  },
  {
   "cell_type": "code",
   "execution_count": null,
   "id": "3f09686fd220a1f2",
   "metadata": {
    "collapsed": false,
    "tags": []
   },
   "outputs": [],
   "source": [
    "cv2.imshow(\"Image\", resized_img_sf)\n",
    "cv2.waitKey(0)\n",
    "cv2.destroyAllWindows()"
   ]
  },
  {
   "cell_type": "markdown",
   "id": "30f6b80a8d3f25d1",
   "metadata": {
    "collapsed": false
   },
   "source": [
    "# Rotating an image"
   ]
  },
  {
   "cell_type": "code",
   "execution_count": 4,
   "id": "af7e5a716b44ce13",
   "metadata": {
    "ExecuteTime": {
     "end_time": "2023-09-07T16:35:40.364545Z",
     "start_time": "2023-09-07T16:35:40.354607Z"
    },
    "collapsed": false
   },
   "outputs": [],
   "source": [
    "rotated_img = cv2.rotate(unchanged_img, cv2.ROTATE_90_COUNTERCLOCKWISE)"
   ]
  },
  {
   "cell_type": "code",
   "execution_count": 5,
   "id": "e7019a3a34cc0b98",
   "metadata": {
    "ExecuteTime": {
     "end_time": "2023-09-07T16:35:57.519102Z",
     "start_time": "2023-09-07T16:35:42.899551Z"
    },
    "collapsed": false
   },
   "outputs": [],
   "source": [
    "cv2.imshow(\"Image\", rotated_img)\n",
    "cv2.waitKey(0)\n",
    "cv2.destroyAllWindows()"
   ]
  },
  {
   "cell_type": "markdown",
   "id": "1d2b1a034b432a10",
   "metadata": {
    "collapsed": false
   },
   "source": [
    "# Saving an image"
   ]
  },
  {
   "cell_type": "code",
   "execution_count": 3,
   "id": "604fd6afb8ea4687",
   "metadata": {
    "ExecuteTime": {
     "end_time": "2023-09-07T16:44:59.518389Z",
     "start_time": "2023-09-07T16:44:59.454539Z"
    },
    "collapsed": false
   },
   "outputs": [
    {
     "data": {
      "text/plain": [
       "True"
      ]
     },
     "execution_count": 3,
     "metadata": {},
     "output_type": "execute_result"
    }
   ],
   "source": [
    "cv2.imwrite('assets/wasik_gray.jpg', img)"
   ]
  }
 ],
 "metadata": {
  "kernelspec": {
   "display_name": "Python 3 (ipykernel)",
   "language": "python",
   "name": "python3"
  },
  "language_info": {
   "codemirror_mode": {
    "name": "ipython",
    "version": 3
   },
   "file_extension": ".py",
   "mimetype": "text/x-python",
   "name": "python",
   "nbconvert_exporter": "python",
   "pygments_lexer": "ipython3",
   "version": "3.11.3"
  }
 },
 "nbformat": 4,
 "nbformat_minor": 5
}
